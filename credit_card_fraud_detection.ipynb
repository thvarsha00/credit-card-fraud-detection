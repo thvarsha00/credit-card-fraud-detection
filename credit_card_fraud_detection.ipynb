{
  "cells": [
    {
      "cell_type": "markdown",
      "metadata": {
        "id": "view-in-github",
        "colab_type": "text"
      },
      "source": [
        "<a href=\"https://colab.research.google.com/github/thvarsha00/credit-card-fraud-detection/blob/main/credit_card_fraud_detection.ipynb\" target=\"_parent\"><img src=\"https://colab.research.google.com/assets/colab-badge.svg\" alt=\"Open In Colab\"/></a>"
      ]
    },
    {
      "cell_type": "markdown",
      "source": [
        "\n",
        "\n",
        "# Project Summary –  Credit Card Fraud Detection\n",
        "\n",
        "This project focuses on detecting fraudulent credit card transactions using machine learning techniques. The dataset used is highly imbalanced, with fraud cases making up only a very small fraction of the total transactions.\n",
        "\n",
        "# Steps Performed:\n",
        "\n",
        "# Data Preprocessing\n",
        "\n",
        "# Handled missing values and explored the dataset.\n",
        "\n",
        "Standardized features like transaction amount and time to ensure better model performance.\n",
        "\n",
        "Applied PCA (Principal Component Analysis) for dimensionality reduction, since most features are anonymized (V1–V28).\n",
        "\n",
        "# Model Training\n",
        "\n",
        "Implemented Logistic Regression (as a baseline model).\n",
        "\n",
        "Implemented Random Forest Classifier, which is better at handling class imbalance and nonlinear patterns.\n",
        "\n",
        "# Evaluation Metrics\n",
        "\n",
        "Since the dataset is imbalanced, accuracy is not the right measure.\n",
        "\n",
        "Focused on Recall (True Positive Rate), because detecting frauds is more critical than avoiding false alarms.\n",
        "\n",
        "Also used ROC-AUC score to evaluate the overall discriminatory power of models.\n",
        "\n",
        "# Results:\n",
        "\n",
        "Logistic Regression: Provided reasonable performance but missed some fraud cases.\n",
        "\n",
        "Random Forest: Achieved higher recall and ROC-AUC, making it better suited for fraud detection.\n",
        "\n",
        "# Key takeaway:\n",
        " In fraud detection, recall is more important than accuracy, since failing to detect a fraud (false negative) is more harmful than wrongly flagging a normal transaction (false positive).\n",
        "\n",
        "# Outcome:\n",
        "\n",
        "The project demonstrates how machine learning models can detect fraudulent transactions effectively, with Random Forest being the most reliable model in this case. This forms the foundation for building real-world fraud detection systems where minimizing fraud losses is the top priority."
      ],
      "metadata": {
        "id": "EXjSXfOcPOTL"
      }
    },
    {
      "cell_type": "code",
      "source": [
        "from google.colab import drive\n",
        "drive.mount('/content/drive')\n"
      ],
      "metadata": {
        "id": "j-pjh35uMT3X"
      },
      "execution_count": null,
      "outputs": []
    },
    {
      "cell_type": "markdown",
      "source": [
        "\n",
        "\n",
        "\n",
        "\n",
        "# **Importing Libraries**\n",
        "\n",
        "This cell loads all the essential libraries used throughout the project:\n",
        "\n",
        "- **Data Handling & Analysis**:\n",
        "  - `pandas`, `numpy`: For loading, cleaning, and manipulating the dataset.\n",
        "\n",
        "- **Visualization**:\n",
        "  - `matplotlib.pyplot`, `seaborn`: For static plots like histograms, heatmaps, and line charts.\n",
        "  - `plotly.express`, `plotly.graph_objects`: For interactive visualizations including dashboards, scatter plots, and violin plots.\n",
        "\n",
        "- **Machine Learning & Dimensionality Reduction**:\n",
        "  - `StandardScaler`: For feature scaling before modeling or visualization.\n",
        "  - `PCA`, `TSNE`: For reducing high-dimensional data to 2D for visualization.\n",
        "  - `precision_recall_curve`, `PrecisionRecallDisplay`: For evaluating model performance on imbalanced data using precision-recall metrics.\n",
        "\n",
        "These tools form the backbone of the project, enabling both exploratory data analysis and model evaluation."
      ],
      "metadata": {
        "id": "Ao9kRnvpoR9V"
      }
    },
    {
      "cell_type": "code",
      "source": [
        "# Import Libraries\n",
        "import pandas as pd\n",
        "import numpy as np\n",
        "import seaborn as sns\n",
        "import matplotlib.pyplot as plt\n",
        "\n",
        "# Plotly\n",
        "import plotly.express as px\n",
        "import plotly.graph_objects as go\n",
        "from plotly.subplots import make_subplots\n",
        "import plotly.graph_objects as goS\n",
        "\n",
        "\n",
        "# ML Tools\n",
        "from sklearn.preprocessing import StandardScaler\n",
        "from sklearn.decomposition import PCA\n",
        "from sklearn.manifold import TSNE\n",
        "from sklearn.metrics import precision_recall_curve, PrecisionRecallDisplay\n"
      ],
      "metadata": {
        "id": "bg_xeayFX-Jw"
      },
      "execution_count": null,
      "outputs": []
    },
    {
      "cell_type": "code",
      "execution_count": null,
      "metadata": {
        "id": "U92igAhHJNBj"
      },
      "outputs": [],
      "source": [
        "\n",
        "# Load the dataset from Drive folder\n",
        "file_path = '/content/drive/MyDrive/creditcard_data/creditcard.csv'\n",
        "df = pd.read_csv(file_path)\n",
        "\n",
        "print(df.head())\n",
        "print(df.columns)\n",
        "\n",
        "\n",
        "\n",
        "X = df.drop(\"Class\", axis=1)\n",
        "y = df[\"Class\"]\n"
      ]
    },
    {
      "cell_type": "markdown",
      "source": [
        "# Fraud vs Non-Fraud Transactions Histogram\n",
        "This interactive histogram shows the distribution of fraudulent (Class = 1) and non-fraudulent (Class = 0) transactions in the dataset.\n",
        "\n",
        "\n",
        "\n"
      ],
      "metadata": {
        "id": "BkFWgz36PQ4-"
      }
    },
    {
      "cell_type": "code",
      "source": [
        "\n",
        "fig = px.histogram(df, x=\"Class\", color=\"Class\",\n",
        "                   title=\"Fraud vs Non-Fraud Transactions\",\n",
        "                   labels={\"Class\": \"Transaction Type\"})\n",
        "fig.show()\n"
      ],
      "metadata": {
        "id": "PeQNJ61HXs5Z"
      },
      "execution_count": null,
      "outputs": []
    },
    {
      "cell_type": "markdown",
      "source": [
        "# Transaction Amount Distribution (Fraud vs Non-Fraud)\n",
        "\n",
        "The boxplot compares the transaction amounts between fraudulent (1) and non-fraudulent (0) transactions.\n",
        "\n",
        "Most non-fraud transactions are spread across a wide range of amounts.\n",
        "\n",
        "Fraudulent transactions tend to involve smaller amounts on average, but a few outliers show very high values.\n",
        "\n",
        "This suggests fraudsters often attempt small transactions to avoid detection, but sometimes larger amounts are also targeted."
      ],
      "metadata": {
        "id": "ZIsbGQvtR9oq"
      }
    },
    {
      "cell_type": "code",
      "source": [
        "plt.figure(figsize=(8,5))\n",
        "sns.boxplot(x=\"Class\", y=\"Amount\", data=df, palette=\"coolwarm\")\n",
        "plt.title(\"Transaction Amount Distribution\")\n",
        "plt.xticks([0, 1], ['Non-Fraud', 'Fraud'])\n",
        "plt.show()"
      ],
      "metadata": {
        "id": "DXH1-KIzR953"
      },
      "execution_count": null,
      "outputs": []
    },
    {
      "cell_type": "markdown",
      "source": [
        "# Fraud vs Non-Fraud by Transaction Amount (Log Scale)\n",
        "\n",
        "This histogram compares transaction amounts for fraudulent and non-fraudulent cases on a logarithmic scale for clearer visibility.\n",
        "\n",
        "Non-fraud transactions (green) dominate across all ranges, especially in mid and high transaction amounts.\n",
        "\n",
        "Fraudulent transactions (red) are more concentrated in the lower amount ranges, showing fraudsters often attempt small transactions.\n",
        "\n",
        "The log scale helps highlight fraud patterns that would otherwise be hidden due to class imbalance."
      ],
      "metadata": {
        "id": "ge14eIi1R-N5"
      }
    },
    {
      "cell_type": "code",
      "source": [
        "# Fraud vs Non-Fraud by Amount (log scale for better view)\n",
        "plt.figure(figsize=(10,6))\n",
        "sns.histplot(df[df['Class']==0]['Amount'], bins=50, color='green', label=\"Non-Fraud\", alpha=0.6)\n",
        "sns.histplot(df[df['Class']==1]['Amount'], bins=50, color='red', label=\"Fraud\", alpha=0.6)\n",
        "plt.yscale(\"log\")\n",
        "plt.legend()\n",
        "plt.title(\"Fraud vs Non-Fraud by Transaction Amount (Log Scale)\")\n",
        "plt.show()"
      ],
      "metadata": {
        "id": "alDmwWe3R-dE"
      },
      "execution_count": null,
      "outputs": []
    },
    {
      "cell_type": "markdown",
      "source": [
        "# Fraud vs Non-Fraud Transactions Over Time\n",
        "\n",
        "This plot shows how transactions are distributed across time.\n",
        "\n",
        "Non-fraud transactions (green) occur consistently throughout the time period.\n",
        "\n",
        "Fraud transactions (red) appear in clusters, indicating fraudsters often strike in short bursts."
      ],
      "metadata": {
        "id": "u7Xfqkb6R-qx"
      }
    },
    {
      "cell_type": "code",
      "source": [
        "plt.figure(figsize=(10,6))\n",
        "sns.histplot(df[df['Class']==0]['Time'], bins=100, color='green', label=\"Non-Fraud\", alpha=0.6)\n",
        "sns.histplot(df[df['Class']==1]['Time'], bins=100, color='red', label=\"Fraud\", alpha=0.6)\n",
        "plt.legend()\n",
        "plt.title(\"Fraud vs Non-Fraud Transactions Over Time\")\n",
        "plt.xlabel(\"Time (seconds)\")\n",
        "plt.ylabel(\"Count\")\n",
        "plt.show()\n"
      ],
      "metadata": {
        "id": "D4cFsy5oR-5V"
      },
      "execution_count": null,
      "outputs": []
    },
    {
      "cell_type": "markdown",
      "source": [
        "# Fraud Rate by Transaction Amount Range\n",
        "\n",
        "This bar chart shows the probability of fraud across different transaction amount bins.\n",
        "\n",
        "Fraudulent transactions are more frequent in lower ranges, showing that fraudsters often attempt smaller amounts to avoid detection.\n",
        "\n",
        "Some higher ranges also have spikes, meaning large-value fraud attempts exist but are less common."
      ],
      "metadata": {
        "id": "MLS1-0LzSnNk"
      }
    },
    {
      "cell_type": "code",
      "source": [
        "df['AmountBin'] = pd.qcut(df['Amount'], 10)  # Divide into 10 bins\n",
        "fraud_rate = df.groupby('AmountBin')['Class'].mean()\n",
        "\n",
        "plt.figure(figsize=(10,6))\n",
        "fraud_rate.plot(kind='bar', color=\"orange\")\n",
        "plt.title(\"Fraud Rate by Transaction Amount Range\")\n",
        "plt.ylabel(\"Fraud Rate\")\n",
        "plt.xlabel(\"Transaction Amount Range\")\n",
        "plt.show()\n"
      ],
      "metadata": {
        "id": "aoMcEAZESncw"
      },
      "execution_count": null,
      "outputs": []
    },
    {
      "cell_type": "markdown",
      "source": [
        "# Fraud vs Non-Fraud Distribution (Pie Chart)\n",
        "\n",
        "This pie chart highlights the imbalance in the dataset.\n",
        "\n",
        "Non-fraud (green) makes up almost all transactions.\n",
        "\n",
        "Fraud (red) is less than 1%, showing the dataset is highly imbalanced."
      ],
      "metadata": {
        "id": "ej7SVEY0Sz3v"
      }
    },
    {
      "cell_type": "code",
      "source": [
        "plt.figure(figsize=(6,6))\n",
        "df['Class'].value_counts().plot.pie(autopct=\"%1.2f%%\", labels=[\"Non-Fraud\",\"Fraud\"], colors=[\"green\",\"red\"])\n",
        "plt.title(\"Fraud vs Non-Fraud Distribution\")\n",
        "plt.show()\n"
      ],
      "metadata": {
        "id": "-cm8hvTwS0Fc"
      },
      "execution_count": null,
      "outputs": []
    },
    {
      "cell_type": "markdown",
      "source": [
        "# Transaction Amount by Class\n",
        "\n",
        "# Insights:\n",
        "\n",
        "Fraudulent transactions often have different amount distributions compared to normal ones.\n",
        "\n",
        "Outliers and spread can reveal whether fraud tends to occur in high- or low-value transactions.\n",
        "\n",
        "Useful for feature engineering and understanding model behavior."
      ],
      "metadata": {
        "id": "91XcWRoHQG9F"
      }
    },
    {
      "cell_type": "code",
      "source": [
        "\n",
        "fig = px.box(df, x=\"Class\", y=\"Amount\", color=\"Class\",\n",
        "             title=\"Transaction Amounts by Class\")\n",
        "fig.show()\n"
      ],
      "metadata": {
        "id": "yW_RrfpRYEaq"
      },
      "execution_count": null,
      "outputs": []
    },
    {
      "cell_type": "markdown",
      "source": [
        "\n",
        "\n",
        "---\n",
        "\n",
        "###  **Transaction Time vs Amount (Scatter Plot)**\n",
        "\n",
        "This scatter plot visualizes the relationship between transaction time and amount, with points color-coded by class (`Class = 0` for non-fraud, `Class = 1` for fraud).\n",
        "\n",
        "- **X-axis**: Time (in seconds since the first transaction)\n",
        "- **Y-axis**: Transaction amount\n",
        "- **Color**: Indicates whether the transaction was fraudulent\n",
        "\n",
        "**Insights**:\n",
        "- Helps identify if frauds cluster around specific time periods or transaction values.\n",
        "- Reveals temporal patterns or anomalies that could be useful for time-based fraud detection.\n",
        "- Can guide feature engineering (e.g., creating time-of-day features)."
      ],
      "metadata": {
        "id": "GiSdYqJvQS4s"
      }
    },
    {
      "cell_type": "code",
      "source": [
        "fig = px.scatter(df, x=\"Time\", y=\"Amount\", color=\"Class\",\n",
        "                 title=\"Transaction Time vs Amount\")\n",
        "fig.show()\n"
      ],
      "metadata": {
        "id": "f9j_rZ8dYGk3"
      },
      "execution_count": null,
      "outputs": []
    },
    {
      "cell_type": "markdown",
      "source": [
        "# Correlation Heatmap\n",
        "\n",
        "This heatmap displays the pairwise correlation coefficients between all numerical features in the dataset.\n",
        "\n",
        "To identify relationships between features, including potential multicollinearity\n",
        "\n",
        "This is especially valuable in datasets with anonymized features like V1–V28, where direct interpretation isn’t possible.\n"
      ],
      "metadata": {
        "id": "rYk4W1lBQaPB"
      }
    },
    {
      "cell_type": "code",
      "source": [
        "df_encoded = df.copy()\n",
        "if 'AmountBin' in df_encoded.columns:\n",
        "    df_encoded['AmountBin'] = df_encoded['AmountBin'].cat.codes  # Convert intervals to integers\n",
        "\n",
        "plt.figure(figsize=(12,8))\n",
        "corr = df_encoded.corr()\n",
        "sns.heatmap(corr, cmap=\"coolwarm\", cbar=True)\n",
        "plt.title(\"Correlation Heatmap (Including Encoded Categories)\")\n",
        "plt.show()\n"
      ],
      "metadata": {
        "id": "Np754-Q2sCxO"
      },
      "execution_count": null,
      "outputs": []
    },
    {
      "cell_type": "markdown",
      "source": [
        "\n",
        "\n",
        "###  **Interpretation of the Violin Plot: Transaction Amount by Class**\n",
        "\n",
        "- **Class 0 (Non-Fraudulent)**:\n",
        "  - The majority of transactions are tightly clustered around lower amounts.\n",
        "  - There's a long tail of higher-value transactions, but they occur infrequently.\n",
        "  - The dense concentration near the bottom suggests most legitimate transactions are small.\n",
        "\n",
        "- **Class 1 (Fraudulent)**:\n",
        "  - Fewer data points overall, confirming the class imbalance.\n",
        "  - Fraudulent transactions appear more spread out, with some occurring at significantly higher amounts.\n",
        "  - The sparse distribution and presence of outliers suggest fraud can happen across a wide range of transaction values.\n",
        "\n",
        "**Why the Log Scale Matters**:\n",
        "- Without it, the dense cluster of small transactions would dominate the plot.\n",
        "- Log scaling reveals the subtle spread and outliers in both classes, especially for fraud.\n",
        "\n"
      ],
      "metadata": {
        "id": "WrxWLiSxpvQc"
      }
    },
    {
      "cell_type": "code",
      "source": [
        "\n",
        "\n",
        "fig = px.violin(df, x='Class', y='Amount', color='Class',\n",
        "                box=True, # adds a box plot inside the violin\n",
        "                points=\"all\", # shows all data points\n",
        "                labels={\n",
        "                    \"0\": \"Non-Fraudulent\",\n",
        "                    \"1\": \"Fraudulent\"\n",
        "                },\n",
        "                title=\"<b>Distribution of Transaction Amount by Class</b>\",\n",
        "                template=\"plotly_white\")\n",
        "\n",
        "# Using a log scale makes the distributions easier to compare\n",
        "fig.update_layout(yaxis_type=\"log\")\n",
        "fig.show()"
      ],
      "metadata": {
        "id": "erxuPHQtkEps"
      },
      "execution_count": null,
      "outputs": []
    },
    {
      "cell_type": "markdown",
      "source": [
        "# Distribution of Fraudulent vs. Non-Fraudulent Transactions (Donut Chart)"
      ],
      "metadata": {
        "id": "Nlcnr_QBqrO6"
      }
    },
    {
      "cell_type": "code",
      "source": [
        "\n",
        "\n",
        "class_counts = df['Class'].value_counts()\n",
        "labels = ['Non-Fraudulent', 'Fraudulent']\n",
        "values = class_counts.values\n",
        "\n",
        "fig = go.Figure(data=[go.Pie(labels=labels, values=values, hole=.4,\n",
        "                             marker_colors=['#636EFA', '#EF553B'],\n",
        "                             pull=[0, 0.2])]) # Pulls out the fraud slice\n",
        "fig.update_layout(\n",
        "    title_text=\"<b>Distribution of Fraudulent vs. Non-Fraudulent Transactions</b>\",\n",
        "    annotations=[dict(text=f'{class_counts[1]/len(df):.2%}<br>Fraud', x=0.5, y=0.5, font_size=20, showarrow=False)]\n",
        ")\n",
        "fig.show()"
      ],
      "metadata": {
        "id": "l3xxKmUQj3ZL"
      },
      "execution_count": null,
      "outputs": []
    },
    {
      "cell_type": "markdown",
      "source": [
        "# PCA Visualization (2D)\n",
        "\n",
        "This scatter plot shows the result of applying Principal Component Analysis (PCA) to reduce the high-dimensional transaction data to two principal components:\n",
        "\n",
        "PC1 and PC2: Represent the directions of maximum variance in the data\n",
        "\n",
        "Color-coded: Fraudulent (Class = 1) vs Non-Fraudulent (Class = 0) transactions"
      ],
      "metadata": {
        "id": "UCplUL24Q3DN"
      }
    },
    {
      "cell_type": "code",
      "source": [
        "from sklearn.preprocessing import StandardScaler\n",
        "from sklearn.decomposition import PCA\n",
        "import plotly.express as px\n",
        "\n",
        "# Keep only numeric features\n",
        "X_numeric = df.drop(\"Class\", axis=1).select_dtypes(include=[\"int64\",\"float64\"])\n",
        "\n",
        "# Scale data\n",
        "scaler = StandardScaler()\n",
        "scaled_data = scaler.fit_transform(X_numeric)\n",
        "\n",
        "# PCA\n",
        "pca = PCA(n_components=2, random_state=42)\n",
        "pca_result = pca.fit_transform(scaled_data)\n",
        "\n",
        "# Create DataFrame for visualization\n",
        "df_pca = pd.DataFrame(pca_result, columns=[\"PC1\", \"PC2\"])\n",
        "df_pca[\"Class\"] = df[\"Class\"].values\n",
        "\n",
        "# Plot\n",
        "fig = px.scatter(\n",
        "    df_pca,\n",
        "    x=\"PC1\",\n",
        "    y=\"PC2\",\n",
        "    color=\"Class\",\n",
        "    title=\"PCA Visualization (2 Components)\",\n",
        "    color_discrete_map={0: \"blue\", 1: \"red\"}\n",
        ")\n",
        "fig.show()\n"
      ],
      "metadata": {
        "id": "J4uBgMZRQ6hi"
      },
      "execution_count": null,
      "outputs": []
    },
    {
      "cell_type": "markdown",
      "source": [
        "# Fraud Transactions Over Time (Histogram)\n",
        "This histogram displays the distribution of fraudulent transactions (Class = 1) across time.\n",
        "\n",
        "X-axis: Time (measured in seconds since the first transaction)\n",
        "\n",
        "Y-axis: Number of fraud cases\n",
        "\n",
        "Color: Red, to highlight fraud activity"
      ],
      "metadata": {
        "id": "2j4W9HSMrHvd"
      }
    },
    {
      "cell_type": "code",
      "source": [
        "fraud = df[df['Class']==1]\n",
        "\n",
        "fig = px.histogram(fraud, x=\"Time\", nbins=50,\n",
        "                   title=\"Fraud Transactions Over Time\",\n",
        "                   color_discrete_sequence=[\"red\"])\n",
        "fig.show()"
      ],
      "metadata": {
        "id": "rDfQ45N1RGWi"
      },
      "execution_count": null,
      "outputs": []
    },
    {
      "cell_type": "markdown",
      "source": [
        "# Combined Visualization Dashboard"
      ],
      "metadata": {
        "id": "UgGAqokwRJWo"
      }
    },
    {
      "cell_type": "code",
      "source": [
        "plt.figure(figsize=(15,10))"
      ],
      "metadata": {
        "id": "Pit-IRiJRRSD"
      },
      "execution_count": null,
      "outputs": []
    },
    {
      "cell_type": "markdown",
      "source": [
        "# Fraud vs Non-Fraud Count"
      ],
      "metadata": {
        "id": "7DInxk50RSAP"
      }
    },
    {
      "cell_type": "code",
      "source": [
        "plt.subplot(2,2,1)\n",
        "sns.countplot(x=\"Class\", data=df, palette=\"Set2\")\n",
        "plt.title(\"Fraud vs Non-Fraud Count\")"
      ],
      "metadata": {
        "id": "vVYyZcmJRVDV"
      },
      "execution_count": null,
      "outputs": []
    },
    {
      "cell_type": "markdown",
      "source": [
        "# Transaction Amount Distribution"
      ],
      "metadata": {
        "id": "Ffbox1njRX2t"
      }
    },
    {
      "cell_type": "code",
      "source": [
        "plt.subplot(2,2,2)\n",
        "sns.histplot(df['Amount'], bins=100, kde=True, color=\"blue\")\n",
        "plt.title(\"Transaction Amount Distribution\")"
      ],
      "metadata": {
        "id": "QeB92EwKRcRH"
      },
      "execution_count": null,
      "outputs": []
    },
    {
      "cell_type": "markdown",
      "source": [
        "# Fraud Amount Distribution"
      ],
      "metadata": {
        "id": "nbnGp50rRe9l"
      }
    },
    {
      "cell_type": "code",
      "source": [
        "plt.subplot(2,2,3)\n",
        "sns.histplot(fraud['Amount'], bins=50, kde=True, color=\"red\")\n",
        "plt.title(\"Fraudulent Transaction Amounts\")"
      ],
      "metadata": {
        "id": "eZWV-tyWRiZ0"
      },
      "execution_count": null,
      "outputs": []
    },
    {
      "cell_type": "markdown",
      "source": [
        "# Fraud Transactions Over Time"
      ],
      "metadata": {
        "id": "8d1aqQ5BRk3j"
      }
    },
    {
      "cell_type": "code",
      "source": [
        "plt.subplot(2,2,4)\n",
        "sns.histplot(fraud['Time'], bins=50, kde=False, color=\"purple\")\n",
        "plt.title(\"Fraud Transactions Over Time\")\n",
        "\n",
        "plt.tight_layout()\n",
        "plt.show()\n"
      ],
      "metadata": {
        "id": "krhdQiUYRoRK"
      },
      "execution_count": null,
      "outputs": []
    },
    {
      "cell_type": "markdown",
      "source": [
        "# Interactive Dashboard with Plotly Subplots"
      ],
      "metadata": {
        "id": "hKqYkJiORqek"
      }
    },
    {
      "cell_type": "code",
      "source": [
        "from plotly.subplots import make_subplots\n",
        "import plotly.graph_objects as go\n",
        "\n",
        "fig = make_subplots(rows=2, cols=2, subplot_titles=(\n",
        "    \"Fraud vs Non-Fraud Count\",\n",
        "    \"Transaction Amount Distribution\",\n",
        "    \"Fraudulent Transaction Amounts\",\n",
        "    \"Fraud Transactions Over Time\"\n",
        "))"
      ],
      "metadata": {
        "id": "CrWsOEWzRykw"
      },
      "execution_count": null,
      "outputs": []
    },
    {
      "cell_type": "markdown",
      "source": [
        "# Transaction Amounts (All)"
      ],
      "metadata": {
        "id": "_gKNeHxISLEh"
      }
    },
    {
      "cell_type": "code",
      "source": [
        "\n",
        "fig.add_trace(go.Histogram(x=df['Amount'], nbinsx=50, marker_color=\"blue\"),\n",
        "              row=1, col=2)"
      ],
      "metadata": {
        "id": "Sq0oraE7R5K9"
      },
      "execution_count": null,
      "outputs": []
    },
    {
      "cell_type": "markdown",
      "source": [
        "# Fraudulent Transaction Amounts"
      ],
      "metadata": {
        "id": "Xf_mNAKOSQ9Q"
      }
    },
    {
      "cell_type": "code",
      "source": [
        "\n",
        "fig.add_trace(go.Histogram(x=fraud['Amount'], nbinsx=50, marker_color=\"red\"),\n",
        "              row=2, col=1)\n"
      ],
      "metadata": {
        "id": "Twb-Hnn7R6p2"
      },
      "execution_count": null,
      "outputs": []
    },
    {
      "cell_type": "markdown",
      "source": [
        "# Fraud Over Time"
      ],
      "metadata": {
        "id": "s7YxIqluSXyv"
      }
    },
    {
      "cell_type": "code",
      "source": [
        "\n",
        "\n",
        "fig.add_trace(go.Histogram(x=fraud['Time'], nbinsx=50, marker_color=\"purple\"),\n",
        "              row=2, col=2)\n",
        "\n",
        "fig.update_layout(title_text=\"Interactive Dashboard of Fraud Analysis\", height=800, showlegend=False)\n",
        "fig.show()"
      ],
      "metadata": {
        "id": "I76nr-RcR6su"
      },
      "execution_count": null,
      "outputs": []
    },
    {
      "cell_type": "markdown",
      "source": [
        "# Fraud Rate by Transaction Amount Bucket\n",
        "This bar chart analyzes how the likelihood of fraud varies across different transaction amount ranges.\n",
        "\n",
        "Amount Buckets: Transactions are grouped into ranges (e.g., ₹0–10, ₹10–100, etc.)\n",
        "\n",
        "Fraud Rate: Calculated as the proportion of fraudulent transactions within each bucket\n",
        "\n",
        "Color Gradient: Darker red indicates higher fraud risk"
      ],
      "metadata": {
        "id": "1KlNTT4KralG"
      }
    },
    {
      "cell_type": "code",
      "source": [
        "# Create amount buckets\n",
        "df['AmountBucket'] = pd.cut(df['Amount'], bins=[0, 10, 100, 500, 1000, 5000, 10000, df['Amount'].max()],\n",
        "                            labels=['0–10', '10–100', '100–500', '500–1K', '1K–5K', '5K–10K', '10K+'])\n",
        "\n",
        "# Fraud rate per bucket\n",
        "bucket_stats = df.groupby('AmountBucket')['Class'].agg(['count', 'sum'])\n",
        "bucket_stats['FraudRate'] = bucket_stats['sum'] / bucket_stats['count']\n",
        "\n",
        "# Plot\n",
        "fig = px.bar(bucket_stats, x=bucket_stats.index, y='FraudRate',\n",
        "             title='Fraud Rate by Transaction Amount Bucket',\n",
        "             labels={'FraudRate': 'Fraud Rate'},\n",
        "             color='FraudRate', color_continuous_scale='Reds')\n",
        "fig.show()\n"
      ],
      "metadata": {
        "id": "cVUPXPYNiO1_"
      },
      "execution_count": null,
      "outputs": []
    },
    {
      "cell_type": "markdown",
      "source": [
        "# Fraudulent Transactions by Hour of Day (Line Plot)\n",
        "This line chart shows how fraudulent transactions (Class = 1) are distributed across different hours of the day.\n",
        "\n",
        "Time Conversion: Raw time (in seconds) is converted to hourly bins\n",
        "\n",
        "X-axis: Hour of the day (0 to 23+)\n",
        "\n",
        "Y-axis: Number of fraud cases\n",
        "\n",
        "Line Plot: Highlights peaks and troughs in fraud activity"
      ],
      "metadata": {
        "id": "uwvA35FMrf_x"
      }
    },
    {
      "cell_type": "code",
      "source": [
        "# Convert time to hours (assuming time is in seconds)\n",
        "df['Hour'] = (df['Time'] / 3600).astype(int)\n",
        "\n",
        "# Fraud frequency by hour\n",
        "hourly_fraud = df[df['Class'] == 1]['Hour'].value_counts().sort_index()\n",
        "\n",
        "# Plot\n",
        "fig = px.line(x=hourly_fraud.index, y=hourly_fraud.values,\n",
        "              labels={'x': 'Hour of Day', 'y': 'Number of Fraud Cases'},\n",
        "              title='Fraudulent Transactions by Hour of Day')\n",
        "fig.show()\n"
      ],
      "metadata": {
        "id": "A0qmdJTGm0Lt"
      },
      "execution_count": null,
      "outputs": []
    },
    {
      "cell_type": "code",
      "source": [],
      "metadata": {
        "id": "m3TQskDLWE8J"
      },
      "execution_count": null,
      "outputs": []
    }
  ],
  "metadata": {
    "colab": {
      "provenance": [],
      "include_colab_link": true
    },
    "kernelspec": {
      "display_name": "Python 3",
      "name": "python3"
    },
    "language_info": {
      "name": "python"
    }
  },
  "nbformat": 4,
  "nbformat_minor": 0
}