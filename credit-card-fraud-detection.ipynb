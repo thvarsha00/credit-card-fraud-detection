{
  "cells": [
    {
      "cell_type": "code",
      "execution_count": null,
      "metadata": {
        "colab": {
          "base_uri": "https://localhost:8080/"
        },
        "id": "j-pjh35uMT3X",
        "outputId": "4607f1da-c6c9-40c4-e609-43fff2376929"
      },
      "outputs": [],
      "source": [
        "from google.colab import drive\n",
        "drive.mount('/content/drive')\n"
      ]
    },
    {
      "cell_type": "code",
      "execution_count": null,
      "metadata": {
        "id": "bg_xeayFX-Jw"
      },
      "outputs": [],
      "source": [
        "# Import Libraries\n",
        "import pandas as pd\n",
        "import numpy as np\n",
        "import seaborn as sns\n",
        "import matplotlib.pyplot as plt\n",
        "\n",
        "# Plotly\n",
        "import plotly.express as px\n",
        "import plotly.graph_objects as go\n",
        "from plotly.subplots import make_subplots\n",
        "\n",
        "# ML Tools\n",
        "from sklearn.preprocessing import StandardScaler\n",
        "from sklearn.decomposition import PCA\n",
        "\n"
      ]
    },
    {
      "cell_type": "code",
      "execution_count": null,
      "metadata": {
        "colab": {
          "base_uri": "https://localhost:8080/"
        },
        "id": "U92igAhHJNBj",
        "outputId": "e13bac9d-dc0c-49f4-8498-4fba9f4de8d4"
      },
      "outputs": [],
      "source": [
        "\n",
        "# Load the dataset from Drive folder\n",
        "file_path = '/content/drive/MyDrive/creditcard_data/creditcard.csv'\n",
        "df = pd.read_csv(file_path)\n",
        "\n",
        "print(df.head())\n",
        "print(df.columns)\n",
        "\n",
        "\n",
        "\n",
        "X = df.drop(\"Class\", axis=1)\n",
        "y = df[\"Class\"]\n"
      ]
    },
    {
      "cell_type": "markdown",
      "metadata": {
        "id": "BkFWgz36PQ4-"
      },
      "source": [
        "# Fraud vs Non-Fraud Distribution\n",
        "\n"
      ]
    },
    {
      "cell_type": "code",
      "execution_count": null,
      "metadata": {
        "colab": {
          "base_uri": "https://localhost:8080/",
          "height": 542
        },
        "id": "PeQNJ61HXs5Z",
        "outputId": "948f4cf4-1b75-4b81-c4a8-ef41658435e9"
      },
      "outputs": [],
      "source": [
        "\n",
        "fig = px.histogram(df, x=\"Class\", color=\"Class\",\n",
        "                   title=\"Fraud vs Non-Fraud Transactions\",\n",
        "                   labels={\"Class\": \"Transaction Type\"})\n",
        "fig.show()\n"
      ]
    },
    {
      "cell_type": "markdown",
      "metadata": {
        "id": "91XcWRoHQG9F"
      },
      "source": [
        "# Transaction Amount by Class"
      ]
    },
    {
      "cell_type": "code",
      "execution_count": null,
      "metadata": {
        "colab": {
          "base_uri": "https://localhost:8080/",
          "height": 542
        },
        "id": "yW_RrfpRYEaq",
        "outputId": "125f6198-7942-4b80-ed4b-c4f242325cb2"
      },
      "outputs": [],
      "source": [
        "\n",
        "fig = px.box(df, x=\"Class\", y=\"Amount\", color=\"Class\",\n",
        "             title=\"Transaction Amounts by Class\")\n",
        "fig.show()\n"
      ]
    },
    {
      "cell_type": "markdown",
      "metadata": {
        "id": "GiSdYqJvQS4s"
      },
      "source": [
        "# Transaction Time vs Amount"
      ]
    },
    {
      "cell_type": "code",
      "execution_count": null,
      "metadata": {
        "colab": {
          "base_uri": "https://localhost:8080/",
          "height": 542
        },
        "id": "f9j_rZ8dYGk3",
        "outputId": "2a641f4a-5ce6-492e-afaa-e11e547075fe"
      },
      "outputs": [],
      "source": [
        "fig = px.scatter(df, x=\"Time\", y=\"Amount\", color=\"Class\",\n",
        "                 title=\"Transaction Time vs Amount\")\n",
        "fig.show()\n"
      ]
    },
    {
      "cell_type": "markdown",
      "metadata": {
        "id": "rYk4W1lBQaPB"
      },
      "source": [
        "# Correlation Heatmap"
      ]
    },
    {
      "cell_type": "code",
      "execution_count": null,
      "metadata": {
        "colab": {
          "base_uri": "https://localhost:8080/",
          "height": 739
        },
        "id": "Np754-Q2sCxO",
        "outputId": "16adad21-d706-4e0b-bc7b-e3869fd96271"
      },
      "outputs": [],
      "source": [
        "plt.figure(figsize=(12,8))\n",
        "sns.heatmap(df.corr(), cmap=\"coolwarm\", cbar=True)\n",
        "plt.title(\"Correlation Heatmap\")\n",
        "plt.show()"
      ]
    },
    {
      "cell_type": "markdown",
      "metadata": {
        "id": "UCplUL24Q3DN"
      },
      "source": [
        "# PCA Visualization (2D)"
      ]
    },
    {
      "cell_type": "code",
      "execution_count": null,
      "metadata": {
        "colab": {
          "base_uri": "https://localhost:8080/",
          "height": 542
        },
        "id": "J4uBgMZRQ6hi",
        "outputId": "733e655f-9f2a-42af-f637-a150243e34a8"
      },
      "outputs": [],
      "source": [
        "scaler = StandardScaler()\n",
        "scaled_data = scaler.fit_transform(df.drop(\"Class\", axis=1))\n",
        "\n",
        "pca = PCA(n_components=2)\n",
        "pca_result = pca.fit_transform(scaled_data)\n",
        "\n",
        "df_pca = pd.DataFrame(pca_result, columns=[\"PC1\", \"PC2\"])\n",
        "df_pca[\"Class\"] = df[\"Class\"]\n",
        "\n",
        "fig = px.scatter(df_pca, x=\"PC1\", y=\"PC2\", color=\"Class\",\n",
        "                 title=\"PCA Visualization (2 Components)\")\n",
        "fig.show()"
      ]
    },
    {
      "cell_type": "markdown",
      "metadata": {
        "id": "mo-vW_QTQ9yN"
      },
      "source": [
        "# PCA Visualization (3D Advanced)"
      ]
    },
    {
      "cell_type": "code",
      "execution_count": null,
      "metadata": {
        "colab": {
          "base_uri": "https://localhost:8080/",
          "height": 542
        },
        "id": "L9B757qiRBCE",
        "outputId": "eeddd3a3-c30e-4d65-e2a5-6270921c65ad"
      },
      "outputs": [],
      "source": [
        "pca_3d = PCA(n_components=3)\n",
        "pca_result_3d = pca_3d.fit_transform(scaled_data)\n",
        "\n",
        "df_pca3d = pd.DataFrame(pca_result_3d, columns=[\"PC1\", \"PC2\", \"PC3\"])\n",
        "df_pca3d[\"Class\"] = df[\"Class\"]\n",
        "\n",
        "fig = px.scatter_3d(df_pca3d, x=\"PC1\", y=\"PC2\", z=\"PC3\",\n",
        "                    color=\"Class\",\n",
        "                    title=\"PCA Visualization (3D)\")\n",
        "fig.show()"
      ]
    },
    {
      "cell_type": "markdown",
      "metadata": {
        "id": "yfNlLqCPRDlC"
      },
      "source": [
        "# Fraud Transactions Over Time"
      ]
    },
    {
      "cell_type": "code",
      "execution_count": null,
      "metadata": {
        "colab": {
          "base_uri": "https://localhost:8080/",
          "height": 542
        },
        "id": "rDfQ45N1RGWi",
        "outputId": "dfa92176-afd9-448d-fb6c-b28d2480032b"
      },
      "outputs": [],
      "source": [
        "fraud = df[df['Class']==1]\n",
        "\n",
        "fig = px.histogram(fraud, x=\"Time\", nbins=50,\n",
        "                   title=\"Fraud Transactions Over Time\",\n",
        "                   color_discrete_sequence=[\"red\"])\n",
        "fig.show()"
      ]
    },
    {
      "cell_type": "markdown",
      "metadata": {
        "id": "UgGAqokwRJWo"
      },
      "source": [
        "# Combined Visualization Dashboard"
      ]
    },
    {
      "cell_type": "code",
      "execution_count": null,
      "metadata": {
        "colab": {
          "base_uri": "https://localhost:8080/",
          "height": 52
        },
        "id": "Pit-IRiJRRSD",
        "outputId": "2adf32df-3f39-4db3-c7c4-42d123c2b086"
      },
      "outputs": [],
      "source": [
        "plt.figure(figsize=(15,10))"
      ]
    },
    {
      "cell_type": "markdown",
      "metadata": {
        "id": "7DInxk50RSAP"
      },
      "source": [
        "# Fraud vs Non-Fraud Count"
      ]
    },
    {
      "cell_type": "code",
      "execution_count": null,
      "metadata": {
        "colab": {
          "base_uri": "https://localhost:8080/",
          "height": 429
        },
        "id": "vVYyZcmJRVDV",
        "outputId": "c69eaade-3e91-4653-8181-1ec01bf56361"
      },
      "outputs": [],
      "source": [
        "plt.subplot(2,2,1)\n",
        "sns.countplot(x=\"Class\", data=df, palette=\"Set2\")\n",
        "plt.title(\"Fraud vs Non-Fraud Count\")"
      ]
    },
    {
      "cell_type": "markdown",
      "metadata": {
        "id": "Ffbox1njRX2t"
      },
      "source": [
        "# Transaction Amount Distribution"
      ]
    },
    {
      "cell_type": "code",
      "execution_count": null,
      "metadata": {
        "colab": {
          "base_uri": "https://localhost:8080/",
          "height": 287
        },
        "id": "QeB92EwKRcRH",
        "outputId": "32564172-336f-44fe-e95a-9ccd4f9f7e77"
      },
      "outputs": [],
      "source": [
        "plt.subplot(2,2,2)\n",
        "sns.histplot(df['Amount'], bins=100, kde=True, color=\"blue\")\n",
        "plt.title(\"Transaction Amount Distribution\")"
      ]
    },
    {
      "cell_type": "markdown",
      "metadata": {
        "id": "nbnGp50rRe9l"
      },
      "source": [
        "# Fraud Amount Distribution"
      ]
    },
    {
      "cell_type": "code",
      "execution_count": null,
      "metadata": {
        "colab": {
          "base_uri": "https://localhost:8080/",
          "height": 287
        },
        "id": "eZWV-tyWRiZ0",
        "outputId": "5b966e1b-8d24-43c3-a3cb-668cf8f010a7"
      },
      "outputs": [],
      "source": [
        "plt.subplot(2,2,3)\n",
        "sns.histplot(fraud['Amount'], bins=50, kde=True, color=\"red\")\n",
        "plt.title(\"Fraudulent Transaction Amounts\")"
      ]
    },
    {
      "cell_type": "markdown",
      "metadata": {
        "id": "8d1aqQ5BRk3j"
      },
      "source": [
        "# Fraud Transactions Over Time"
      ]
    },
    {
      "cell_type": "code",
      "execution_count": null,
      "metadata": {
        "colab": {
          "base_uri": "https://localhost:8080/",
          "height": 287
        },
        "id": "krhdQiUYRoRK",
        "outputId": "f6090e2a-f304-43f5-c371-e512f7940bb9"
      },
      "outputs": [],
      "source": [
        "plt.subplot(2,2,4)\n",
        "sns.histplot(fraud['Time'], bins=50, kde=False, color=\"purple\")\n",
        "plt.title(\"Fraud Transactions Over Time\")\n",
        "\n",
        "plt.tight_layout()\n",
        "plt.show()\n"
      ]
    },
    {
      "cell_type": "markdown",
      "metadata": {
        "id": "hKqYkJiORqek"
      },
      "source": [
        "# Interactive Dashboard with Plotly Subplots"
      ]
    },
    {
      "cell_type": "code",
      "execution_count": null,
      "metadata": {
        "id": "CrWsOEWzRykw"
      },
      "outputs": [],
      "source": [
        "from plotly.subplots import make_subplots\n",
        "import plotly.graph_objects as go\n",
        "\n",
        "fig = make_subplots(rows=2, cols=2, subplot_titles=(\n",
        "    \"Fraud vs Non-Fraud Count\",\n",
        "    \"Transaction Amount Distribution\",\n",
        "    \"Fraudulent Transaction Amounts\",\n",
        "    \"Fraud Transactions Over Time\"\n",
        "))"
      ]
    },
    {
      "cell_type": "markdown",
      "metadata": {
        "id": "_gKNeHxISLEh"
      },
      "source": [
        "# Transaction Amounts (All)"
      ]
    },
    {
      "cell_type": "code",
      "execution_count": null,
      "metadata": {
        "colab": {
          "base_uri": "https://localhost:8080/",
          "height": 542
        },
        "id": "Sq0oraE7R5K9",
        "outputId": "ef05d8f7-87ec-4135-af01-cf1643cacfe4"
      },
      "outputs": [],
      "source": [
        "\n",
        "fig.add_trace(go.Histogram(x=df['Amount'], nbinsx=50, marker_color=\"blue\"),\n",
        "              row=1, col=2)"
      ]
    },
    {
      "cell_type": "markdown",
      "metadata": {
        "id": "Xf_mNAKOSQ9Q"
      },
      "source": [
        "# Fraudulent Transaction Amounts"
      ]
    },
    {
      "cell_type": "code",
      "execution_count": null,
      "metadata": {
        "colab": {
          "base_uri": "https://localhost:8080/",
          "height": 542
        },
        "id": "Twb-Hnn7R6p2",
        "outputId": "5700580a-5a07-4011-d937-3db2afa336ca"
      },
      "outputs": [],
      "source": [
        "\n",
        "fig.add_trace(go.Histogram(x=fraud['Amount'], nbinsx=50, marker_color=\"red\"),\n",
        "              row=2, col=1)\n"
      ]
    },
    {
      "cell_type": "markdown",
      "metadata": {
        "id": "s7YxIqluSXyv"
      },
      "source": [
        "# Fraud Over Time"
      ]
    },
    {
      "cell_type": "code",
      "execution_count": null,
      "metadata": {
        "colab": {
          "base_uri": "https://localhost:8080/",
          "height": 817
        },
        "id": "I76nr-RcR6su",
        "outputId": "f4d4c852-53bf-4628-c71b-260e9976c4a8"
      },
      "outputs": [],
      "source": [
        "\n",
        "\n",
        "fig.add_trace(go.Histogram(x=fraud['Time'], nbinsx=50, marker_color=\"purple\"),\n",
        "              row=2, col=2)\n",
        "\n",
        "fig.update_layout(title_text=\"Interactive Dashboard of Fraud Analysis\", height=800, showlegend=False)\n",
        "fig.show()"
      ]
    },
    {
      "cell_type": "code",
      "execution_count": null,
      "metadata": {
        "id": "de79DHKER6wd"
      },
      "outputs": [],
      "source": []
    }
  ],
  "metadata": {
    "colab": {
      "provenance": []
    },
    "kernelspec": {
      "display_name": "Python 3",
      "name": "python3"
    },
    "language_info": {
      "name": "python"
    }
  },
  "nbformat": 4,
  "nbformat_minor": 0
}
