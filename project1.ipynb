{
  "cells": [
    {
      "cell_type": "markdown",
      "metadata": {
        "id": "view-in-github",
        "colab_type": "text"
      },
      "source": [
        "<a href=\"https://colab.research.google.com/github/thvarsha00/credit-card-fraud-detection/blob/main/project1.ipynb\" target=\"_parent\"><img src=\"https://colab.research.google.com/assets/colab-badge.svg\" alt=\"Open In Colab\"/></a>"
      ]
    },
    {
      "cell_type": "code",
      "execution_count": null,
      "metadata": {
        "id": "j-pjh35uMT3X"
      },
      "outputs": [],
      "source": [
        "from google.colab import drive\n",
        "drive.mount('/content/drive')\n"
      ]
    },
    {
      "cell_type": "code",
      "execution_count": null,
      "metadata": {
        "id": "bg_xeayFX-Jw"
      },
      "outputs": [],
      "source": [
        "# Import Libraries\n",
        "import pandas as pd\n",
        "import numpy as np\n",
        "import seaborn as sns\n",
        "import matplotlib.pyplot as plt\n",
        "\n",
        "# Plotly\n",
        "import plotly.express as px\n",
        "import plotly.graph_objects as go\n",
        "from plotly.subplots import make_subplots\n",
        "\n",
        "# ML Tools\n",
        "from sklearn.preprocessing import StandardScaler\n",
        "from sklearn.decomposition import PCA\n",
        "\n"
      ]
    },
    {
      "cell_type": "code",
      "execution_count": null,
      "metadata": {
        "id": "U92igAhHJNBj"
      },
      "outputs": [],
      "source": [
        "\n",
        "# Load the dataset from Drive folder\n",
        "file_path = '/content/drive/MyDrive/creditcard_data/creditcard.csv'\n",
        "df = pd.read_csv(file_path)\n",
        "\n",
        "print(df.head())\n",
        "print(df.columns)\n",
        "\n",
        "\n",
        "\n",
        "X = df.drop(\"Class\", axis=1)\n",
        "y = df[\"Class\"]\n"
      ]
    },
    {
      "cell_type": "markdown",
      "metadata": {
        "id": "BkFWgz36PQ4-"
      },
      "source": [
        "# Fraud vs Non-Fraud Distribution\n",
        "\n"
      ]
    },
    {
      "cell_type": "code",
      "execution_count": null,
      "metadata": {
        "id": "PeQNJ61HXs5Z"
      },
      "outputs": [],
      "source": [
        "\n",
        "fig = px.histogram(df, x=\"Class\", color=\"Class\",\n",
        "                   title=\"Fraud vs Non-Fraud Transactions\",\n",
        "                   labels={\"Class\": \"Transaction Type\"})\n",
        "fig.show()\n"
      ]
    },
    {
      "cell_type": "markdown",
      "source": [
        "# Transaction Amount Distribution (Fraud vs Non-Fraud)\n",
        "\n",
        "The boxplot compares the transaction amounts between fraudulent (1) and non-fraudulent (0) transactions.\n",
        "\n",
        "Most non-fraud transactions are spread across a wide range of amounts.\n",
        "\n",
        "Fraudulent transactions tend to involve smaller amounts on average, but a few outliers show very high values.\n",
        "\n",
        "This suggests fraudsters often attempt small transactions to avoid detection, but sometimes larger amounts are also targeted."
      ],
      "metadata": {
        "id": "wmqB2a5XM8eq"
      }
    },
    {
      "cell_type": "code",
      "source": [
        "plt.figure(figsize=(8,5))\n",
        "sns.boxplot(x=\"Class\", y=\"Amount\", data=df, palette=\"coolwarm\")\n",
        "plt.title(\"Transaction Amount Distribution\")\n",
        "plt.xticks([0, 1], ['Non-Fraud', 'Fraud'])\n",
        "plt.show()"
      ],
      "metadata": {
        "id": "EFCn6AoDM8un"
      },
      "execution_count": null,
      "outputs": []
    },
    {
      "cell_type": "markdown",
      "source": [
        "# Fraud vs Non-Fraud by Transaction Amount (Log Scale)\n",
        "\n",
        "This histogram compares transaction amounts for fraudulent and non-fraudulent cases on a logarithmic scale for clearer visibility."
      ],
      "metadata": {
        "id": "XoALBRgBM9Ct"
      }
    },
    {
      "cell_type": "code",
      "source": [
        "# Fraud vs Non-Fraud by Amount (log scale for better view)\n",
        "plt.figure(figsize=(10,6))\n",
        "sns.histplot(df[df['Class']==0]['Amount'], bins=50, color='green', label=\"Non-Fraud\", alpha=0.6)\n",
        "sns.histplot(df[df['Class']==1]['Amount'], bins=50, color='red', label=\"Fraud\", alpha=0.6)\n",
        "plt.yscale(\"log\")\n",
        "plt.legend()\n",
        "plt.title(\"Fraud vs Non-Fraud by Transaction Amount (Log Scale)\")\n",
        "plt.show()"
      ],
      "metadata": {
        "id": "NRYRDXCNM9Wq"
      },
      "execution_count": null,
      "outputs": []
    },
    {
      "cell_type": "markdown",
      "metadata": {
        "id": "91XcWRoHQG9F"
      },
      "source": [
        "# Transaction Amount by Class"
      ]
    },
    {
      "cell_type": "code",
      "execution_count": null,
      "metadata": {
        "id": "yW_RrfpRYEaq"
      },
      "outputs": [],
      "source": [
        "\n",
        "fig = px.box(df, x=\"Class\", y=\"Amount\", color=\"Class\",\n",
        "             title=\"Transaction Amounts by Class\")\n",
        "fig.show()\n"
      ]
    },
    {
      "cell_type": "markdown",
      "metadata": {
        "id": "GiSdYqJvQS4s"
      },
      "source": [
        "# Transaction Time vs Amount"
      ]
    },
    {
      "cell_type": "code",
      "execution_count": null,
      "metadata": {
        "id": "f9j_rZ8dYGk3"
      },
      "outputs": [],
      "source": [
        "fig = px.scatter(df, x=\"Time\", y=\"Amount\", color=\"Class\",\n",
        "                 title=\"Transaction Time vs Amount\")\n",
        "fig.show()\n"
      ]
    },
    {
      "cell_type": "markdown",
      "metadata": {
        "id": "rYk4W1lBQaPB"
      },
      "source": [
        "# Correlation Heatmap"
      ]
    },
    {
      "cell_type": "code",
      "execution_count": null,
      "metadata": {
        "id": "Np754-Q2sCxO"
      },
      "outputs": [],
      "source": [
        "plt.figure(figsize=(12,8))\n",
        "sns.heatmap(df.corr(), cmap=\"coolwarm\", cbar=True)\n",
        "plt.title(\"Correlation Heatmap\")\n",
        "plt.show()"
      ]
    },
    {
      "cell_type": "markdown",
      "metadata": {
        "id": "UCplUL24Q3DN"
      },
      "source": [
        "# PCA Visualization (2D)"
      ]
    },
    {
      "cell_type": "code",
      "execution_count": null,
      "metadata": {
        "id": "J4uBgMZRQ6hi"
      },
      "outputs": [],
      "source": [
        "scaler = StandardScaler()\n",
        "scaled_data = scaler.fit_transform(df.drop(\"Class\", axis=1))\n",
        "\n",
        "pca = PCA(n_components=2)\n",
        "pca_result = pca.fit_transform(scaled_data)\n",
        "\n",
        "df_pca = pd.DataFrame(pca_result, columns=[\"PC1\", \"PC2\"])\n",
        "df_pca[\"Class\"] = df[\"Class\"]\n",
        "\n",
        "fig = px.scatter(df_pca, x=\"PC1\", y=\"PC2\", color=\"Class\",\n",
        "                 title=\"PCA Visualization (2 Components)\")\n",
        "fig.show()"
      ]
    },
    {
      "cell_type": "markdown",
      "metadata": {
        "id": "mo-vW_QTQ9yN"
      },
      "source": [
        "# PCA Visualization (3D Advanced)"
      ]
    },
    {
      "cell_type": "code",
      "execution_count": null,
      "metadata": {
        "id": "L9B757qiRBCE"
      },
      "outputs": [],
      "source": [
        "pca_3d = PCA(n_components=3)\n",
        "pca_result_3d = pca_3d.fit_transform(scaled_data)\n",
        "\n",
        "df_pca3d = pd.DataFrame(pca_result_3d, columns=[\"PC1\", \"PC2\", \"PC3\"])\n",
        "df_pca3d[\"Class\"] = df[\"Class\"]\n",
        "\n",
        "fig = px.scatter_3d(df_pca3d, x=\"PC1\", y=\"PC2\", z=\"PC3\",\n",
        "                    color=\"Class\",\n",
        "                    title=\"PCA Visualization (3D)\")\n",
        "fig.show()"
      ]
    },
    {
      "cell_type": "markdown",
      "metadata": {
        "id": "yfNlLqCPRDlC"
      },
      "source": [
        "# Fraud Transactions Over Time"
      ]
    },
    {
      "cell_type": "code",
      "execution_count": null,
      "metadata": {
        "id": "rDfQ45N1RGWi"
      },
      "outputs": [],
      "source": [
        "fraud = df[df['Class']==1]\n",
        "\n",
        "fig = px.histogram(fraud, x=\"Time\", nbins=50,\n",
        "                   title=\"Fraud Transactions Over Time\",\n",
        "                   color_discrete_sequence=[\"red\"])\n",
        "fig.show()"
      ]
    },
    {
      "cell_type": "markdown",
      "metadata": {
        "id": "7DInxk50RSAP"
      },
      "source": [
        "# Fraud vs Non-Fraud Count"
      ]
    },
    {
      "cell_type": "code",
      "execution_count": null,
      "metadata": {
        "id": "vVYyZcmJRVDV"
      },
      "outputs": [],
      "source": [
        "plt.subplot(2,2,1)\n",
        "sns.countplot(x=\"Class\", data=df, palette=\"Set2\")\n",
        "plt.title(\"Fraud vs Non-Fraud Count\")"
      ]
    },
    {
      "cell_type": "markdown",
      "metadata": {
        "id": "Ffbox1njRX2t"
      },
      "source": [
        "# Transaction Amount Distribution"
      ]
    },
    {
      "cell_type": "code",
      "execution_count": null,
      "metadata": {
        "id": "QeB92EwKRcRH"
      },
      "outputs": [],
      "source": [
        "plt.subplot(2,2,2)\n",
        "sns.histplot(df['Amount'], bins=100, kde=True, color=\"blue\")\n",
        "plt.title(\"Transaction Amount Distribution\")"
      ]
    },
    {
      "cell_type": "markdown",
      "metadata": {
        "id": "nbnGp50rRe9l"
      },
      "source": [
        "# Fraud Amount Distribution"
      ]
    },
    {
      "cell_type": "code",
      "execution_count": null,
      "metadata": {
        "id": "eZWV-tyWRiZ0"
      },
      "outputs": [],
      "source": [
        "plt.subplot(2,2,3)\n",
        "sns.histplot(fraud['Amount'], bins=50, kde=True, color=\"red\")\n",
        "plt.title(\"Fraudulent Transaction Amounts\")"
      ]
    },
    {
      "cell_type": "markdown",
      "metadata": {
        "id": "8d1aqQ5BRk3j"
      },
      "source": [
        "# Fraud Transactions Over Time"
      ]
    },
    {
      "cell_type": "code",
      "execution_count": null,
      "metadata": {
        "id": "krhdQiUYRoRK"
      },
      "outputs": [],
      "source": [
        "plt.subplot(2,2,4)\n",
        "sns.histplot(fraud['Time'], bins=50, kde=False, color=\"purple\")\n",
        "plt.title(\"Fraud Transactions Over Time\")\n",
        "\n",
        "plt.tight_layout()\n",
        "plt.show()\n"
      ]
    },
    {
      "cell_type": "markdown",
      "metadata": {
        "id": "hKqYkJiORqek"
      },
      "source": [
        "# Interactive Dashboard with Plotly Subplots"
      ]
    },
    {
      "cell_type": "code",
      "execution_count": null,
      "metadata": {
        "id": "CrWsOEWzRykw"
      },
      "outputs": [],
      "source": [
        "from plotly.subplots import make_subplots\n",
        "import plotly.graph_objects as go\n",
        "\n",
        "fig = make_subplots(rows=2, cols=2, subplot_titles=(\n",
        "    \"Fraud vs Non-Fraud Count\",\n",
        "    \"Transaction Amount Distribution\",\n",
        "    \"Fraudulent Transaction Amounts\",\n",
        "    \"Fraud Transactions Over Time\"\n",
        "))"
      ]
    },
    {
      "cell_type": "markdown",
      "metadata": {
        "id": "_gKNeHxISLEh"
      },
      "source": [
        "# Transaction Amounts (All)"
      ]
    },
    {
      "cell_type": "code",
      "execution_count": null,
      "metadata": {
        "id": "Sq0oraE7R5K9"
      },
      "outputs": [],
      "source": [
        "\n",
        "fig.add_trace(go.Histogram(x=df['Amount'], nbinsx=50, marker_color=\"blue\"),\n",
        "              row=1, col=2)"
      ]
    },
    {
      "cell_type": "markdown",
      "metadata": {
        "id": "Xf_mNAKOSQ9Q"
      },
      "source": [
        "# Fraudulent Transaction Amounts"
      ]
    },
    {
      "cell_type": "code",
      "execution_count": null,
      "metadata": {
        "id": "Twb-Hnn7R6p2"
      },
      "outputs": [],
      "source": [
        "\n",
        "fig.add_trace(go.Histogram(x=fraud['Amount'], nbinsx=50, marker_color=\"red\"),\n",
        "              row=2, col=1)\n"
      ]
    },
    {
      "cell_type": "markdown",
      "metadata": {
        "id": "s7YxIqluSXyv"
      },
      "source": [
        "# Fraud Over Time"
      ]
    },
    {
      "cell_type": "code",
      "execution_count": null,
      "metadata": {
        "id": "I76nr-RcR6su"
      },
      "outputs": [],
      "source": [
        "\n",
        "\n",
        "fig.add_trace(go.Histogram(x=fraud['Time'], nbinsx=50, marker_color=\"purple\"),\n",
        "              row=2, col=2)\n",
        "\n",
        "fig.update_layout(title_text=\"Interactive Dashboard of Fraud Analysis\", height=800, showlegend=False)\n",
        "fig.show()"
      ]
    },
    {
      "cell_type": "code",
      "execution_count": null,
      "metadata": {
        "id": "de79DHKER6wd"
      },
      "outputs": [],
      "source": []
    }
  ],
  "metadata": {
    "colab": {
      "provenance": [],
      "authorship_tag": "ABX9TyPIwSpvBvl//OtLy2E3ohTW",
      "include_colab_link": true
    },
    "kernelspec": {
      "display_name": "Python 3",
      "name": "python3"
    },
    "language_info": {
      "name": "python"
    }
  },
  "nbformat": 4,
  "nbformat_minor": 0
}